{
 "cells": [
  {
   "cell_type": "markdown",
   "metadata": {},
   "source": [
    "# UML Capstone Data Prep Notebook"
   ]
  },
  {
   "cell_type": "markdown",
   "metadata": {},
   "source": [
    "This notebook outlines the preprocessing steps used to extract a csv file of usable size for my GitHub repository. This isn't a necessary step if you wish to see the analysis, but it does document the steps I took to create the dataset file used in the Notebook-UnsupervisedLearningCapstone file you can find in the same Repo."
   ]
  },
  {
   "cell_type": "markdown",
   "metadata": {},
   "source": [
    "## Environment setup"
   ]
  },
  {
   "cell_type": "code",
   "execution_count": 1,
   "metadata": {},
   "outputs": [],
   "source": [
    "import pandas as pd\n",
    "import warnings\n",
    "warnings.filterwarnings('ignore')"
   ]
  },
  {
   "cell_type": "code",
   "execution_count": 2,
   "metadata": {},
   "outputs": [],
   "source": [
    "import os\n",
    "cwd = os.getcwd()\n",
    "file = cwd+'\\\\Iowa_Liquor_Sales.csv'"
   ]
  },
  {
   "cell_type": "markdown",
   "metadata": {},
   "source": [
    "## Data load and preprocessing steps"
   ]
  },
  {
   "cell_type": "markdown",
   "metadata": {},
   "source": [
    "The file was too large to import all at once without timing out, so I chose a chunk size that would work in a reasonable period of time and concatenated the chunks into a single dataframe to work with."
   ]
  },
  {
   "cell_type": "code",
   "execution_count": 3,
   "metadata": {},
   "outputs": [],
   "source": [
    "#Use TextFileReader, which is iterable with chunks of rows, this is like and engine to use to collect the data.\n",
    "data = pd.read_csv(file, iterator=True, chunksize=100000)\n",
    "# df is DataFrame. If errors, do `list(tp)` instead of `tp`\n",
    "df = pd.concat(data, ignore_index=True)  "
   ]
  },
  {
   "cell_type": "code",
   "execution_count": 4,
   "metadata": {},
   "outputs": [
    {
     "name": "stdout",
     "output_type": "stream",
     "text": [
      "48\n",
      "13666120408\n"
     ]
    }
   ],
   "source": [
    "#What size are each of these objects? Output is in bytes.\n",
    "import sys\n",
    "print(sys.getsizeof(data)) #shows data is the engine\n",
    "print(sys.getsizeof(df)) #shows that this is the datapull\n",
    "#other options - generator objects, like a list, analogous to set of instructions"
   ]
  },
  {
   "cell_type": "code",
   "execution_count": 5,
   "metadata": {},
   "outputs": [
    {
     "name": "stdout",
     "output_type": "stream",
     "text": [
      "<class 'pandas.io.parsers.TextFileReader'>\n",
      "<class 'pandas.core.frame.DataFrame'>\n"
     ]
    }
   ],
   "source": [
    "#What are the object types for each?\n",
    "print(type(data))\n",
    "print(type(df))"
   ]
  },
  {
   "cell_type": "code",
   "execution_count": 6,
   "metadata": {},
   "outputs": [
    {
     "name": "stdout",
     "output_type": "stream",
     "text": [
      "<class 'pandas.core.frame.DataFrame'>\n",
      "Int64Index: 12495974 entries, 6 to 12591076\n",
      "Data columns (total 24 columns):\n",
      " #   Column                 Dtype  \n",
      "---  ------                 -----  \n",
      " 0   Invoice/Item Number    object \n",
      " 1   Date                   object \n",
      " 2   Store Number           int64  \n",
      " 3   Store Name             object \n",
      " 4   Address                object \n",
      " 5   City                   object \n",
      " 6   Zip Code               object \n",
      " 7   Store Location         object \n",
      " 8   County Number          float64\n",
      " 9   County                 object \n",
      " 10  Category               float64\n",
      " 11  Category Name          object \n",
      " 12  Vendor Number          float64\n",
      " 13  Vendor Name            object \n",
      " 14  Item Number            int64  \n",
      " 15  Item Description       object \n",
      " 16  Pack                   int64  \n",
      " 17  Bottle Volume (ml)     int64  \n",
      " 18  State Bottle Cost      object \n",
      " 19  State Bottle Retail    object \n",
      " 20  Bottles Sold           int64  \n",
      " 21  Sale (Dollars)         object \n",
      " 22  Volume Sold (Liters)   float64\n",
      " 23  Volume Sold (Gallons)  float64\n",
      "dtypes: float64(5), int64(5), object(14)\n",
      "memory usage: 2.3+ GB\n"
     ]
    }
   ],
   "source": [
    "#Drop nulls and see how many observations we have:\n",
    "df.dropna(inplace=True)\n",
    "df.info()"
   ]
  },
  {
   "cell_type": "markdown",
   "metadata": {},
   "source": [
    "There are too many rows in our dataset to make this manageable with the tools we are working with for this capstone. Let's see what options we have if we look at the liquor categories available to us."
   ]
  },
  {
   "cell_type": "code",
   "execution_count": 7,
   "metadata": {},
   "outputs": [
    {
     "data": {
      "text/plain": [
       "array(['DECANTERS & SPECIALTY PACKAGES', 'CREAM LIQUEURS',\n",
       "       'MISC. IMPORTED CORDIALS & LIQUEURS',\n",
       "       'PUERTO RICO & VIRGIN ISLANDS RUM', 'FLAVORED RUM',\n",
       "       'PEPPERMINT SCHNAPPS', 'VODKA FLAVORED', 'VODKA 80 PROOF',\n",
       "       'MISC. AMERICAN CORDIALS & LIQUEURS', 'TEQUILA', 'IRISH WHISKIES',\n",
       "       'WHISKEY LIQUEUR', 'AMERICAN DRY GINS', 'CANADIAN WHISKIES',\n",
       "       'IMPORTED DRY GINS', 'BLENDED WHISKIES', 'SINGLE MALT SCOTCH',\n",
       "       'SPICED RUM', 'STRAIGHT BOURBON WHISKIES', 'IMPORTED VODKA - MISC',\n",
       "       'IMPORTED VODKA', 'AMERICAN COCKTAILS', '100 PROOF VODKA',\n",
       "       'TENNESSEE WHISKIES', 'IMPORTED GRAPE BRANDIES', 'SCOTCH WHISKIES',\n",
       "       'AMERICAN ALCOHOL', 'FLAVORED GINS', 'IMPORTED SCHNAPPS',\n",
       "       'APPLE SCHNAPPS', 'BLACKBERRY BRANDIES', 'APRICOT BRANDIES',\n",
       "       'AMERICAN AMARETTO', 'STRAIGHT RYE WHISKIES', 'BARBADOS RUM',\n",
       "       'WATERMELON SCHNAPPS', 'AMERICAN GRAPE BRANDIES',\n",
       "       'CHERRY BRANDIES', 'PEACH SCHNAPPS', 'BUTTERSCOTCH SCHNAPPS',\n",
       "       'MISCELLANEOUS  BRANDIES', 'TRIPLE SEC', 'TROPICAL FRUIT SCHNAPPS',\n",
       "       'MISCELLANEOUS SCHNAPPS', 'IMPORTED AMARETTO', 'GRAPE SCHNAPPS',\n",
       "       'COFFEE LIQUEURS', 'ROOT BEER SCHNAPPS',\n",
       "       'DISTILLED SPIRITS SPECIALTY', 'STRAWBERRY SCHNAPPS',\n",
       "       'CINNAMON SCHNAPPS', 'RASPBERRY SCHNAPPS', 'OTHER PROOF VODKA',\n",
       "       'SINGLE BARREL BOURBON WHISKIES', 'WHITE CREME DE MENTHE',\n",
       "       'CREME DE ALMOND', 'JAMAICA RUM', 'SPEARMINT SCHNAPPS',\n",
       "       'DARK CREME DE CACAO', 'ROCK & RYE', 'GREEN CREME DE MENTHE',\n",
       "       'BOTTLED IN BOND BOURBON', 'AMERICAN SLOE GINS', 'PEACH BRANDIES',\n",
       "       'WHITE CREME DE CACAO', 'LOW PROOF VODKA', 'ANISETTE',\n",
       "       'HIGH PROOF BEER - AMERICAN', 'AMARETTO - IMPORTED',\n",
       "       'CORN WHISKIES', 'IMPORTED VODKA - CHERRY', 'SCHNAPPS - IMPORTED',\n",
       "       'JAPANESE WHISKY', 'American Vodka', 'Cream Liqueurs',\n",
       "       'American Sloe Gins', '100% Agave Tequila',\n",
       "       'Straight Rye Whiskies', 'Spiced Rum', 'Canadian Whiskies',\n",
       "       'Triple Sec', 'Imported Cordials & Liqueurs', 'American Brandies',\n",
       "       'American Schnapps', 'Imported Vodka', 'Imported Flavored Vodka',\n",
       "       'Imported Dry Gins', 'Single Malt Scotch',\n",
       "       'American Flavored Vodka', 'Imported Brandies', 'Aged Dark Rum',\n",
       "       'Whiskey Liqueur', 'American Cordials & Liqueurs',\n",
       "       'Coffee Liqueurs', 'Straight Bourbon Whiskies',\n",
       "       'American Dry Gins', 'White Rum', 'Gold Rum', 'Blended Whiskies',\n",
       "       'Flavored Rum', 'Scotch Whiskies', 'Cocktails / RTD',\n",
       "       'Tennessee Whiskies', 'Irish Whiskies',\n",
       "       'Neutral Grain Spirits Flavored', 'Imported Schnapps',\n",
       "       'Mixto Tequila', 'Imported Distilled Spirits Specialty',\n",
       "       'Neutral Grain Spirits', 'Bottled in Bond Bourbon',\n",
       "       'Single Barrel Bourbon Whiskies', 'Flavored Gin', 'Delisted Items',\n",
       "       'American Distilled Spirits Specialty', 'Iowa Distillery Whiskies',\n",
       "       'Mezcal', 'Special Order Items', 'Corn Whiskies',\n",
       "       'Temporary & Specialty Packages', 'American Cordials & Liqueur',\n",
       "       'American Vodkas', 'Holiday VAP', 'Cocktails /RTD',\n",
       "       'Imported Cordials & Liqueur',\n",
       "       'American Distilled Spirit Specialty', 'Imported Vodkas',\n",
       "       'Temporary &  Specialty Packages',\n",
       "       'Imported Distilled Spirit Specialty', 'American Gins',\n",
       "       'Iowa Distilleries'], dtype=object)"
      ]
     },
     "execution_count": 7,
     "metadata": {},
     "output_type": "execute_result"
    }
   ],
   "source": [
    "df['Category Name'].unique()"
   ]
  },
  {
   "cell_type": "markdown",
   "metadata": {},
   "source": [
    "It was here that the scope of the capstone became inspired : it was the week of St. Patrick's Day and I have Irish roots in my geneology, so I decided to theoretically open an Irish Pub in Iowa."
   ]
  },
  {
   "cell_type": "code",
   "execution_count": 8,
   "metadata": {},
   "outputs": [
    {
     "name": "stdout",
     "output_type": "stream",
     "text": [
      "<class 'pandas.core.frame.DataFrame'>\n",
      "Int64Index: 87747 entries, 108 to 9912099\n",
      "Data columns (total 24 columns):\n",
      " #   Column                 Non-Null Count  Dtype  \n",
      "---  ------                 --------------  -----  \n",
      " 0   Invoice/Item Number    87747 non-null  object \n",
      " 1   Date                   87747 non-null  object \n",
      " 2   Store Number           87747 non-null  int64  \n",
      " 3   Store Name             87747 non-null  object \n",
      " 4   Address                87747 non-null  object \n",
      " 5   City                   87747 non-null  object \n",
      " 6   Zip Code               87747 non-null  object \n",
      " 7   Store Location         87747 non-null  object \n",
      " 8   County Number          87747 non-null  float64\n",
      " 9   County                 87747 non-null  object \n",
      " 10  Category               87747 non-null  float64\n",
      " 11  Category Name          87747 non-null  object \n",
      " 12  Vendor Number          87747 non-null  float64\n",
      " 13  Vendor Name            87747 non-null  object \n",
      " 14  Item Number            87747 non-null  int64  \n",
      " 15  Item Description       87747 non-null  object \n",
      " 16  Pack                   87747 non-null  int64  \n",
      " 17  Bottle Volume (ml)     87747 non-null  int64  \n",
      " 18  State Bottle Cost      87747 non-null  object \n",
      " 19  State Bottle Retail    87747 non-null  object \n",
      " 20  Bottles Sold           87747 non-null  int64  \n",
      " 21  Sale (Dollars)         87747 non-null  object \n",
      " 22  Volume Sold (Liters)   87747 non-null  float64\n",
      " 23  Volume Sold (Gallons)  87747 non-null  float64\n",
      "dtypes: float64(5), int64(5), object(14)\n",
      "memory usage: 16.7+ MB\n"
     ]
    },
    {
     "data": {
      "text/html": [
       "<div>\n",
       "<style scoped>\n",
       "    .dataframe tbody tr th:only-of-type {\n",
       "        vertical-align: middle;\n",
       "    }\n",
       "\n",
       "    .dataframe tbody tr th {\n",
       "        vertical-align: top;\n",
       "    }\n",
       "\n",
       "    .dataframe thead th {\n",
       "        text-align: right;\n",
       "    }\n",
       "</style>\n",
       "<table border=\"1\" class=\"dataframe\">\n",
       "  <thead>\n",
       "    <tr style=\"text-align: right;\">\n",
       "      <th></th>\n",
       "      <th>Invoice/Item Number</th>\n",
       "      <th>Date</th>\n",
       "      <th>Store Number</th>\n",
       "      <th>Store Name</th>\n",
       "      <th>Address</th>\n",
       "      <th>City</th>\n",
       "      <th>Zip Code</th>\n",
       "      <th>Store Location</th>\n",
       "      <th>County Number</th>\n",
       "      <th>County</th>\n",
       "      <th>...</th>\n",
       "      <th>Item Number</th>\n",
       "      <th>Item Description</th>\n",
       "      <th>Pack</th>\n",
       "      <th>Bottle Volume (ml)</th>\n",
       "      <th>State Bottle Cost</th>\n",
       "      <th>State Bottle Retail</th>\n",
       "      <th>Bottles Sold</th>\n",
       "      <th>Sale (Dollars)</th>\n",
       "      <th>Volume Sold (Liters)</th>\n",
       "      <th>Volume Sold (Gallons)</th>\n",
       "    </tr>\n",
       "  </thead>\n",
       "  <tbody>\n",
       "    <tr>\n",
       "      <th>108</th>\n",
       "      <td>S17627300143</td>\n",
       "      <td>02/26/2014</td>\n",
       "      <td>2614</td>\n",
       "      <td>Hy-Vee #3 Food and Drugstore</td>\n",
       "      <td>1823 E KIMBERLY RD</td>\n",
       "      <td>DAVENPORT</td>\n",
       "      <td>52807</td>\n",
       "      <td>1823 E KIMBERLY RD\\nDAVENPORT 52807\\n(41.55678...</td>\n",
       "      <td>82.0</td>\n",
       "      <td>Scott</td>\n",
       "      <td>...</td>\n",
       "      <td>15776</td>\n",
       "      <td>Bushmills Irish Whiskey</td>\n",
       "      <td>12</td>\n",
       "      <td>750</td>\n",
       "      <td>$13.00</td>\n",
       "      <td>$19.50</td>\n",
       "      <td>4</td>\n",
       "      <td>$78.00</td>\n",
       "      <td>3.0</td>\n",
       "      <td>0.79</td>\n",
       "    </tr>\n",
       "    <tr>\n",
       "      <th>259</th>\n",
       "      <td>S26793300054</td>\n",
       "      <td>07/15/2015</td>\n",
       "      <td>2551</td>\n",
       "      <td>Hy-Vee Food Store / Chariton</td>\n",
       "      <td>2001 WEST COURT</td>\n",
       "      <td>CHARITON</td>\n",
       "      <td>50049</td>\n",
       "      <td>2001 WEST COURT\\nCHARITON 50049\\n</td>\n",
       "      <td>59.0</td>\n",
       "      <td>Lucas</td>\n",
       "      <td>...</td>\n",
       "      <td>15621</td>\n",
       "      <td>Jameson Mini</td>\n",
       "      <td>10</td>\n",
       "      <td>600</td>\n",
       "      <td>$11.88</td>\n",
       "      <td>$17.82</td>\n",
       "      <td>1</td>\n",
       "      <td>$17.82</td>\n",
       "      <td>0.6</td>\n",
       "      <td>0.16</td>\n",
       "    </tr>\n",
       "    <tr>\n",
       "      <th>372</th>\n",
       "      <td>S28015900070</td>\n",
       "      <td>09/21/2015</td>\n",
       "      <td>2190</td>\n",
       "      <td>Central City Liquor, Inc.</td>\n",
       "      <td>1460 2ND AVE</td>\n",
       "      <td>DES MOINES</td>\n",
       "      <td>50314</td>\n",
       "      <td>1460 2ND AVE\\nDES MOINES 50314\\n(41.60566, -93...</td>\n",
       "      <td>77.0</td>\n",
       "      <td>Polk</td>\n",
       "      <td>...</td>\n",
       "      <td>15777</td>\n",
       "      <td>Bushmills Irish Whiskey</td>\n",
       "      <td>12</td>\n",
       "      <td>1000</td>\n",
       "      <td>$16.25</td>\n",
       "      <td>$24.38</td>\n",
       "      <td>2</td>\n",
       "      <td>$48.76</td>\n",
       "      <td>2.0</td>\n",
       "      <td>0.53</td>\n",
       "    </tr>\n",
       "    <tr>\n",
       "      <th>520</th>\n",
       "      <td>S12067800002</td>\n",
       "      <td>05/07/2013</td>\n",
       "      <td>2651</td>\n",
       "      <td>Hy-Vee / Waverly</td>\n",
       "      <td>1311 4 STREET SW</td>\n",
       "      <td>WAVERLY</td>\n",
       "      <td>50677</td>\n",
       "      <td>1311 4 STREET SW\\nWAVERLY 50677\\n(42.713533, -...</td>\n",
       "      <td>9.0</td>\n",
       "      <td>Bremer</td>\n",
       "      <td>...</td>\n",
       "      <td>15572</td>\n",
       "      <td>Concannon</td>\n",
       "      <td>6</td>\n",
       "      <td>750</td>\n",
       "      <td>$10.00</td>\n",
       "      <td>$15.00</td>\n",
       "      <td>6</td>\n",
       "      <td>$90.00</td>\n",
       "      <td>4.5</td>\n",
       "      <td>1.19</td>\n",
       "    </tr>\n",
       "    <tr>\n",
       "      <th>877</th>\n",
       "      <td>S23217800007</td>\n",
       "      <td>12/27/2014</td>\n",
       "      <td>4764</td>\n",
       "      <td>New Star / Fort Dodge</td>\n",
       "      <td>1923 5TH AVE S</td>\n",
       "      <td>FORT DODGE</td>\n",
       "      <td>50501</td>\n",
       "      <td>1923 5TH AVE S\\nFORT DODGE 50501\\n(42.501162, ...</td>\n",
       "      <td>94.0</td>\n",
       "      <td>Webster</td>\n",
       "      <td>...</td>\n",
       "      <td>15644</td>\n",
       "      <td>Jameson</td>\n",
       "      <td>24</td>\n",
       "      <td>375</td>\n",
       "      <td>$6.74</td>\n",
       "      <td>$10.11</td>\n",
       "      <td>24</td>\n",
       "      <td>$242.64</td>\n",
       "      <td>9.0</td>\n",
       "      <td>2.38</td>\n",
       "    </tr>\n",
       "  </tbody>\n",
       "</table>\n",
       "<p>5 rows × 24 columns</p>\n",
       "</div>"
      ],
      "text/plain": [
       "    Invoice/Item Number        Date  Store Number  \\\n",
       "108        S17627300143  02/26/2014          2614   \n",
       "259        S26793300054  07/15/2015          2551   \n",
       "372        S28015900070  09/21/2015          2190   \n",
       "520        S12067800002  05/07/2013          2651   \n",
       "877        S23217800007  12/27/2014          4764   \n",
       "\n",
       "                       Store Name             Address        City Zip Code  \\\n",
       "108  Hy-Vee #3 Food and Drugstore  1823 E KIMBERLY RD   DAVENPORT    52807   \n",
       "259  Hy-Vee Food Store / Chariton     2001 WEST COURT    CHARITON    50049   \n",
       "372     Central City Liquor, Inc.        1460 2ND AVE  DES MOINES    50314   \n",
       "520              Hy-Vee / Waverly    1311 4 STREET SW     WAVERLY    50677   \n",
       "877         New Star / Fort Dodge      1923 5TH AVE S  FORT DODGE    50501   \n",
       "\n",
       "                                        Store Location  County Number  \\\n",
       "108  1823 E KIMBERLY RD\\nDAVENPORT 52807\\n(41.55678...           82.0   \n",
       "259                  2001 WEST COURT\\nCHARITON 50049\\n           59.0   \n",
       "372  1460 2ND AVE\\nDES MOINES 50314\\n(41.60566, -93...           77.0   \n",
       "520  1311 4 STREET SW\\nWAVERLY 50677\\n(42.713533, -...            9.0   \n",
       "877  1923 5TH AVE S\\nFORT DODGE 50501\\n(42.501162, ...           94.0   \n",
       "\n",
       "      County  ...  Item Number         Item Description  Pack  \\\n",
       "108    Scott  ...        15776  Bushmills Irish Whiskey    12   \n",
       "259    Lucas  ...        15621             Jameson Mini    10   \n",
       "372     Polk  ...        15777  Bushmills Irish Whiskey    12   \n",
       "520   Bremer  ...        15572                Concannon     6   \n",
       "877  Webster  ...        15644                  Jameson    24   \n",
       "\n",
       "    Bottle Volume (ml)  State Bottle Cost State Bottle Retail  Bottles Sold  \\\n",
       "108                750             $13.00              $19.50             4   \n",
       "259                600             $11.88              $17.82             1   \n",
       "372               1000             $16.25              $24.38             2   \n",
       "520                750             $10.00              $15.00             6   \n",
       "877                375              $6.74              $10.11            24   \n",
       "\n",
       "     Sale (Dollars) Volume Sold (Liters) Volume Sold (Gallons)  \n",
       "108          $78.00                  3.0                  0.79  \n",
       "259          $17.82                  0.6                  0.16  \n",
       "372          $48.76                  2.0                  0.53  \n",
       "520          $90.00                  4.5                  1.19  \n",
       "877         $242.64                  9.0                  2.38  \n",
       "\n",
       "[5 rows x 24 columns]"
      ]
     },
     "execution_count": 8,
     "metadata": {},
     "output_type": "execute_result"
    }
   ],
   "source": [
    "#Create a smaller dataframe of just Irish Whiskies:\n",
    "IW = df['Category Name'] == 'IRISH WHISKIES'\n",
    "IW_df = df.iloc[IW.values]\n",
    "IW_df.info()\n",
    "IW_df.head()"
   ]
  },
  {
   "cell_type": "markdown",
   "metadata": {},
   "source": [
    "There are PLENTY of Irish Whiskeys in this dataset to work with for what we're doing, a wee bit \"too many\", but we'll work with it."
   ]
  },
  {
   "cell_type": "code",
   "execution_count": 9,
   "metadata": {},
   "outputs": [],
   "source": [
    "#output to csv so that I can import to GitHub and make it more accessible:\n",
    "compression_opts = dict(method='zip',\n",
    "                        archive_name='IowaLiquorSales_IrishWhiskies.csv')  \n",
    "IW_df.to_csv('ILSIW.zip', index=False, compression=compression_opts) "
   ]
  },
  {
   "cell_type": "markdown",
   "metadata": {},
   "source": [
    "## Next Steps:\n",
    "At this point, I manually extracted the csv file and then uploaded it to GitHub to conduct the analysis in the Notebook-UnsupervisedLearningCapstone file."
   ]
  }
 ],
 "metadata": {
  "kernelspec": {
   "display_name": "Python 3",
   "language": "python",
   "name": "python3"
  },
  "language_info": {
   "codemirror_mode": {
    "name": "ipython",
    "version": 3
   },
   "file_extension": ".py",
   "mimetype": "text/x-python",
   "name": "python",
   "nbconvert_exporter": "python",
   "pygments_lexer": "ipython3",
   "version": "3.8.5"
  }
 },
 "nbformat": 4,
 "nbformat_minor": 4
}
